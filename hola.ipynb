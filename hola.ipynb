{
 "cells": [
  {
   "cell_type": "code",
   "execution_count": null,
   "metadata": {},
   "outputs": [],
   "source": [
    "# Definiendo el método de Runge- Kutta 4 a partir de una función\n",
    "def Runge_Kutta(f, g, i, x_0, y_0, z_0, h, nPasos):\n",
    "    k_1 = h * f"
   ]
  }
 ],
 "metadata": {
  "language_info": {
   "name": "python"
  },
  "orig_nbformat": 4
 },
 "nbformat": 4,
 "nbformat_minor": 2
}
