{
 "cells": [
  {
   "cell_type": "code",
   "execution_count": null,
   "metadata": {},
   "outputs": [],
   "source": [
    "# Definiendo el método de Runge- Kutta 4 a partir de una función\n",
    "import numpy as np\n",
    "\n",
    "def Runge_Kutta4(f, X_0, t_0, t_f, h):\n",
    "\n",
    "    n = int((t_f - t_0) / h) + 1    #Número de pasos\n",
    "    t = np.linspace(t_0, t_f, n)    #Valores de t\n",
    "    X = np.zeros(n)                 #Valores de y\n",
    "    X[0] = X_0\n",
    "\n",
    "    for i in range (n - 1):\n",
    "        k_1 = h * f(t[i], X[i])\n",
    "        k_2 = h * f(t[i] + h/2, X[i] + k_1/2)\n",
    "        k_3 = h * f(t[i] + h/2, X[i] + k_2/2)\n",
    "        k_4 = h * f(t[i], X[i] + k_3)\n",
    "\n",
    "        X[i + 1] = X[i] + (k_1 + 2*k_2 + 2*k_3 + k_4) / 6\n",
    "\n",
    "    return t, X\n",
    "\n",
    "def Lorenz(t, X):\n",
    "\n",
    "    dx_dt = 10 (X[1]-X[0])\n",
    "    dy_dt = X[0]*(28-X[2])-X[1]\n",
    "    dz_dt = X[0]*X[1]-(8/3)*X[2]\n",
    "\n",
    "    return np.array([dx_dt, dy_dt, dz_dt])\n",
    "\n",
    "X_0 = [3, 0, 0]\n",
    "t_0 = 0\n",
    "t_f = 1\n",
    "h = 0.1\n",
    "\n",
    "t, X = Runge_Kutta4(Lorenz, X_0, t_0, t_f, h)\n",
    "\n",
    "#Imprimir los resultados\n",
    "for i in range(len(t)):\n",
    "    print(f\" t = {t[i]:.2f} y = {X[i]}\")"
   ]
  }
 ],
 "metadata": {
  "kernelspec": {
   "display_name": "Python 3",
   "language": "python",
   "name": "python3"
  },
  "language_info": {
   "name": "python",
   "version": "3.11.2"
  },
  "orig_nbformat": 4
 },
 "nbformat": 4,
 "nbformat_minor": 2
}
