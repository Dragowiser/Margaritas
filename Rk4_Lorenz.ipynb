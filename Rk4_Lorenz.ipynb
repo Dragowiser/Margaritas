{
 "cells": [
  {
   "cell_type": "code",
   "execution_count": 30,
   "metadata": {},
   "outputs": [
    {
     "name": "stdout",
     "output_type": "stream",
     "text": [
      " t = 0.00 x = 3.0000 y = 0.0000 z = 0.0000\n",
      " t = 0.01 x = 2.7538 y = 0.7989 z = 0.0114\n",
      " t = 0.02 x = 2.6037 y = 1.5345 z = 0.0419\n",
      " t = 0.03 x = 2.5359 y = 2.2318 z = 0.0885\n",
      " t = 0.04 x = 2.5400 y = 2.9121 z = 0.1505\n",
      " t = 0.05 x = 2.6083 y = 3.5941 z = 0.2290\n",
      " t = 0.06 x = 2.7358 y = 4.2941 z = 0.3269\n",
      " t = 0.07 x = 2.9192 y = 5.0270 z = 0.4482\n",
      " t = 0.08 x = 3.1571 y = 5.8065 z = 0.5987\n",
      " t = 0.09 x = 3.4492 y = 6.6451 z = 0.7857\n",
      " t = 0.10 x = 3.7968 y = 7.5548 z = 1.0187\n",
      "[3.         2.75377998 2.60373795 2.53593764 2.53996516 2.6082907\n",
      " 2.73576102 2.9191966  3.15707041 3.44924834 3.79677258]\n",
      "[0.         0.79891071 1.53450879 2.23178103 2.91210513 3.59406016\n",
      " 4.29409034 5.02702903 5.80648992 6.64512807 7.55476534]\n",
      "[0.         0.01137254 0.04188614 0.0884736  0.15046935 0.22903743\n",
      " 0.32688757 0.44819213 0.59865114 0.78567443 1.01866288]\n"
     ]
    }
   ],
   "source": [
    "#Resolviendo el atractor de Lorenz mediante el método de Runge Kutta 4\n",
    "import numpy as np\n",
    "\n",
    "#Defiendo el método de Runge Kutta 4 a partir de una función\n",
    "def Runge_Kutta4(f, X_0, t_0, t_f, h):\n",
    "    \n",
    "    n = int((t_f - t_0) / h + 1)    #Número de pasos\n",
    "    t = np.linspace(t_0, t_f, n)    #Valores de t\n",
    "    X = np.zeros([n, len(X_0)])     #Matriz de n x número de entradas\n",
    "    X[0] = X_0                     \n",
    "\n",
    "    for i in range (n - 1):\n",
    "        k_1 = h * f(t[i], X[i])\n",
    "        k_2 = h * f(t[i] + h/2, X[i] + k_1/2)\n",
    "        k_3 = h * f(t[i] + h/2, X[i] + k_2/2)\n",
    "        k_4 = h * f(t[i], X[i] + k_3)\n",
    "        \n",
    "        X[i + 1] = X[i] + (k_1 + 2*k_2 + 2*k_3 + k_4) / 6\n",
    "        \n",
    "    return t, X\n",
    "\n",
    "def Lorenz(t, X):\n",
    "    \n",
    "    dx_dt = 10*(X[1]-X[0])\n",
    "    dy_dt = X[0]*(28-X[2])-X[1]\n",
    "    dz_dt = X[0]*X[1]-(8/3)*X[2]\n",
    "    \n",
    "    return np.array([dx_dt, dy_dt, dz_dt])\n",
    "\n",
    "X_0 = [3, 0, 0]\n",
    "t_0 = 0\n",
    "t_f = 0.1\n",
    "h = 0.01\n",
    "\n",
    "t, X = Runge_Kutta4(Lorenz, X_0, t_0, t_f, h)\n",
    "\n",
    "#Imprimir los resultados\n",
    "for i in range(len(t)):\n",
    "    print(f\" t = {t[i]:.2f} x = {X[i,0]:.4f} y = {X[i,1]:.4f} z = {X[i,2]:.4f}\" )\n",
    "    \n",
    "x = np.array([fila[0] for fila in X])\n",
    "print(x)\n",
    "\n",
    "y = np.array([fila[1] for fila in X])\n",
    "print(y)\n",
    "\n",
    "z = np.array([fila[2] for fila in X])\n",
    "print(z)"
   ]
  },
  {
   "cell_type": "code",
   "execution_count": 21,
   "metadata": {},
   "outputs": [
    {
     "name": "stdout",
     "output_type": "stream",
     "text": [
      "[3.0, 2.75377997869625, 2.603737946759251, 2.5359376417934953, 2.539965161409908, 2.608290699447461, 2.735761024677316, 2.9191965950006544, 3.157070405651835, 3.4492483392197557, 3.796772584884835]\n",
      "[0.0, 0.7989107094957394, 1.534508789738484, 2.2317810311620154, 2.912105134842599, 3.594060156837562, 4.294090341165082, 5.027029033963765, 5.806489921679003, 6.645128067929583, 7.554765335498092]\n",
      "[0.0, 0.011372541206882194, 0.04188614389300807, 0.08847359791207574, 0.1504693492479415, 0.22903743334094173, 0.32688757244741096, 0.4481921326978216, 0.5986511440224244, 0.7856744278461161, 1.0186628811688445]\n",
      "[0.   0.01 0.02 0.03 0.04 0.05 0.06 0.07 0.08 0.09 0.1 ]\n",
      "[3.         2.75377998 2.60373795 2.53593764 2.53996516 2.6082907\n",
      " 2.73576102 2.9191966  3.15707041 3.44924834 3.79677258]\n"
     ]
    }
   ],
   "source": [
    "t, X = Runge_Kutta4(Lorenz, X_0, t_0, t_f, h)\n",
    "\n",
    "for i in range(len(X_0)):\n",
    "    columna = [fila[i] for fila in X]\n",
    "    print (columna)\n",
    "print (t)\n",
    "\n",
    "x = np.array([fila[0] for fila in X])\n",
    "print(x)"
   ]
  }
 ],
 "metadata": {
  "kernelspec": {
   "display_name": "Python 3",
   "language": "python",
   "name": "python3"
  },
  "language_info": {
   "codemirror_mode": {
    "name": "ipython",
    "version": 3
   },
   "file_extension": ".py",
   "mimetype": "text/x-python",
   "name": "python",
   "nbconvert_exporter": "python",
   "pygments_lexer": "ipython3",
   "version": "3.11.2"
  },
  "orig_nbformat": 4
 },
 "nbformat": 4,
 "nbformat_minor": 2
}
